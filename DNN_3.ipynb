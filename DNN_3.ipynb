{
 "cells": [
  {
   "cell_type": "code",
   "execution_count": 1,
   "metadata": {},
   "outputs": [],
   "source": [
    "from tensorflow.keras.models import Sequential "
   ]
  },
  {
   "cell_type": "code",
   "execution_count": 2,
   "metadata": {},
   "outputs": [],
   "source": [
    "# get the data in \n",
    "import warnings \n",
    "warnings.filterwarnings(\"ignore\")\n",
    "\n",
    "from tensorflow.keras.datasets import mnist"
   ]
  },
  {
   "cell_type": "code",
   "execution_count": 3,
   "metadata": {},
   "outputs": [],
   "source": [
    "# do the preprocessing \n",
    "(X_train, y_train), (X_test, y_test) = mnist.load_data()\n",
    "\n",
    "input_dim = 784 \n",
    "output_dim = nb_classes = 10 \n",
    "batch_size2 = 128\n",
    "batch_size1 = 8 \n",
    "nb_epoch = 20 \n",
    "\n",
    "X_train = X_train.reshape(60000, input_dim)\n",
    "X_test = X_test.reshape(10000, input_dim)\n",
    "X_train = X_train.astype('float32')\n",
    "X_test = X_test.astype('float32')\n",
    "X_train /= 255\n",
    "X_test /= 255"
   ]
  },
  {
   "cell_type": "code",
   "execution_count": 4,
   "metadata": {},
   "outputs": [],
   "source": [
    "# one hot encode the target variable using the to_categorical function from the keras.utils\n",
    "\n",
    "from tensorflow.keras.utils import to_categorical \n",
    "\n",
    "y_train = to_categorical(y_train, nb_classes)\n",
    "y_test = to_categorical(y_test, nb_classes)"
   ]
  },
  {
   "cell_type": "code",
   "execution_count": 5,
   "metadata": {},
   "outputs": [],
   "source": [
    "from tensorflow.keras.layers import Dense\n",
    "from tensorflow.keras import losses \n",
    "\n",
    "#build the model object \n",
    "model = Sequential()\n",
    "\n",
    "#first dense layer \n",
    "model.add(Dense(128, input_shape=(784,), activation='tanh'))\n",
    "\n",
    "# the second dense layer \n",
    "model.add(Dense(64, activation='tanh'))\n",
    "\n",
    "#last layer is the output layer \n",
    "model.add(Dense(10, activation = 'softmax'))"
   ]
  },
  {
   "cell_type": "code",
   "execution_count": 6,
   "metadata": {},
   "outputs": [
    {
     "name": "stdout",
     "output_type": "stream",
     "text": [
      "Model: \"sequential\"\n",
      "_________________________________________________________________\n",
      "Layer (type)                 Output Shape              Param #   \n",
      "=================================================================\n",
      "dense (Dense)                (None, 128)               100480    \n",
      "_________________________________________________________________\n",
      "dense_1 (Dense)              (None, 64)                8256      \n",
      "_________________________________________________________________\n",
      "dense_2 (Dense)              (None, 10)                650       \n",
      "=================================================================\n",
      "Total params: 109,386\n",
      "Trainable params: 109,386\n",
      "Non-trainable params: 0\n",
      "_________________________________________________________________\n"
     ]
    }
   ],
   "source": [
    "#get info on the model \n",
    "model.summary()"
   ]
  },
  {
   "cell_type": "code",
   "execution_count": 7,
   "metadata": {},
   "outputs": [],
   "source": [
    "#compile the model, need to define optimizer, loss function, metric to measure performance \n",
    "\n",
    "model.compile(optimizer = 'sgd', loss = 'categorical_crossentropy', metrics = ['accuracy'])"
   ]
  },
  {
   "cell_type": "code",
   "execution_count": 8,
   "metadata": {},
   "outputs": [
    {
     "name": "stdout",
     "output_type": "stream",
     "text": [
      "Epoch 1/20\n",
      "1875/1875 [==============================] - 2s 906us/step - loss: 0.8994 - accuracy: 0.7670\n",
      "Epoch 2/20\n",
      "1875/1875 [==============================] - 2s 805us/step - loss: 0.3357 - accuracy: 0.9054\n",
      "Epoch 3/20\n",
      "1875/1875 [==============================] - 2s 837us/step - loss: 0.2832 - accuracy: 0.9198\n",
      "Epoch 4/20\n",
      "1875/1875 [==============================] - 2s 804us/step - loss: 0.2510 - accuracy: 0.9290\n",
      "Epoch 5/20\n",
      "1875/1875 [==============================] - 2s 929us/step - loss: 0.2318 - accuracy: 0.9342\n",
      "Epoch 6/20\n",
      "1875/1875 [==============================] - 1s 790us/step - loss: 0.2067 - accuracy: 0.9405\n",
      "Epoch 7/20\n",
      "1875/1875 [==============================] - 2s 804us/step - loss: 0.1890 - accuracy: 0.9460\n",
      "Epoch 8/20\n",
      "1875/1875 [==============================] - 2s 874us/step - loss: 0.1750 - accuracy: 0.9511\n",
      "Epoch 9/20\n",
      "1875/1875 [==============================] - 1s 789us/step - loss: 0.1607 - accuracy: 0.9548\n",
      "Epoch 10/20\n",
      "1875/1875 [==============================] - 2s 833us/step - loss: 0.1492 - accuracy: 0.9575\n",
      "Epoch 11/20\n",
      "1875/1875 [==============================] - 2s 850us/step - loss: 0.1409 - accuracy: 0.9587\n",
      "Epoch 12/20\n",
      "1875/1875 [==============================] - 2s 807us/step - loss: 0.1328 - accuracy: 0.9623\n",
      "Epoch 13/20\n",
      "1875/1875 [==============================] - 2s 815us/step - loss: 0.1268 - accuracy: 0.9649\n",
      "Epoch 14/20\n",
      "1875/1875 [==============================] - 2s 837us/step - loss: 0.1146 - accuracy: 0.9667\n",
      "Epoch 15/20\n",
      "1875/1875 [==============================] - 2s 867us/step - loss: 0.1114 - accuracy: 0.9681\n",
      "Epoch 16/20\n",
      "1875/1875 [==============================] - 2s 808us/step - loss: 0.1113 - accuracy: 0.9681\n",
      "Epoch 17/20\n",
      "1875/1875 [==============================] - 2s 834us/step - loss: 0.1026 - accuracy: 0.9706\n",
      "Epoch 18/20\n",
      "1875/1875 [==============================] - 2s 892us/step - loss: 0.0943 - accuracy: 0.9729\n",
      "Epoch 19/20\n",
      "1875/1875 [==============================] - 1s 790us/step - loss: 0.0941 - accuracy: 0.9732\n",
      "Epoch 20/20\n",
      "1875/1875 [==============================] - 1s 788us/step - loss: 0.0874 - accuracy: 0.9751\n"
     ]
    },
    {
     "data": {
      "text/plain": [
       "<tensorflow.python.keras.callbacks.History at 0x1f775a94e80>"
      ]
     },
     "execution_count": 8,
     "metadata": {},
     "output_type": "execute_result"
    }
   ],
   "source": [
    "# fit the model \n",
    "model.fit(X_train, y_train, epochs=20, verbose =1)"
   ]
  },
  {
   "cell_type": "code",
   "execution_count": 9,
   "metadata": {},
   "outputs": [
    {
     "name": "stdout",
     "output_type": "stream",
     "text": [
      "test score : 0.10447724908590317\n",
      "test accuracy : 0.9686999917030334\n"
     ]
    }
   ],
   "source": [
    "#evaluate the model \n",
    "\n",
    "score = model.evaluate(X_test, y_test, verbose = 0)\n",
    "print('test score :', score[0])\n",
    "print('test accuracy :', score[1])"
   ]
  },
  {
   "cell_type": "code",
   "execution_count": 10,
   "metadata": {},
   "outputs": [],
   "source": [
    "#build the model object \n",
    "model2 = Sequential()\n",
    "\n",
    "#first dense layer \n",
    "model2.add(Dense(128, input_shape=(784,), activation='sigmoid'))\n",
    "\n",
    "# the second dense layer \n",
    "model2.add(Dense(64, activation='sigmoid'))\n",
    "\n",
    "#last layer is the output layer \n",
    "model2.add(Dense(10, activation = 'softmax'))"
   ]
  },
  {
   "cell_type": "code",
   "execution_count": 11,
   "metadata": {},
   "outputs": [],
   "source": [
    "#compile the model, need to define optimizer, loss function, metric to measure performance \n",
    "\n",
    "model2.compile(optimizer = 'sgd', loss = 'categorical_crossentropy', metrics = ['accuracy'])"
   ]
  },
  {
   "cell_type": "code",
   "execution_count": 12,
   "metadata": {},
   "outputs": [
    {
     "name": "stdout",
     "output_type": "stream",
     "text": [
      "Epoch 1/20\n",
      "7500/7500 [==============================] - 5s 677us/step - loss: 1.9255 - accuracy: 0.4275\n",
      "Epoch 2/20\n",
      "7500/7500 [==============================] - 5s 663us/step - loss: 0.5728 - accuracy: 0.8530\n",
      "Epoch 3/20\n",
      "7500/7500 [==============================] - 5s 678us/step - loss: 0.3937 - accuracy: 0.8923\n",
      "Epoch 4/20\n",
      "7500/7500 [==============================] - 5s 653us/step - loss: 0.3340 - accuracy: 0.9070\n",
      "Epoch 5/20\n",
      "7500/7500 [==============================] - 5s 655us/step - loss: 0.3082 - accuracy: 0.9112\n",
      "Epoch 6/20\n",
      "7500/7500 [==============================] - 5s 677us/step - loss: 0.2832 - accuracy: 0.9176\n",
      "Epoch 7/20\n",
      "7500/7500 [==============================] - 5s 653us/step - loss: 0.2695 - accuracy: 0.9220\n",
      "Epoch 8/20\n",
      "7500/7500 [==============================] - 6s 761us/step - loss: 0.2468 - accuracy: 0.9278\n",
      "Epoch 9/20\n",
      "7500/7500 [==============================] - 6s 809us/step - loss: 0.2299 - accuracy: 0.9332\n",
      "Epoch 10/20\n",
      "7500/7500 [==============================] - 7s 902us/step - loss: 0.2173 - accuracy: 0.9354\n",
      "Epoch 11/20\n",
      "7500/7500 [==============================] - 5s 725us/step - loss: 0.2048 - accuracy: 0.9401\n",
      "Epoch 12/20\n",
      "7500/7500 [==============================] - 5s 683us/step - loss: 0.1967 - accuracy: 0.9434\n",
      "Epoch 13/20\n",
      "7500/7500 [==============================] - 5s 687us/step - loss: 0.1864 - accuracy: 0.9469\n",
      "Epoch 14/20\n",
      "7500/7500 [==============================] - 5s 683us/step - loss: 0.1803 - accuracy: 0.9471\n",
      "Epoch 15/20\n",
      "7500/7500 [==============================] - 5s 691us/step - loss: 0.1707 - accuracy: 0.9499\n",
      "Epoch 16/20\n",
      "7500/7500 [==============================] - 5s 689us/step - loss: 0.1601 - accuracy: 0.9534\n",
      "Epoch 17/20\n",
      "7500/7500 [==============================] - 5s 658us/step - loss: 0.1563 - accuracy: 0.9548\n",
      "Epoch 18/20\n",
      "7500/7500 [==============================] - 5s 703us/step - loss: 0.1442 - accuracy: 0.9582\n",
      "Epoch 19/20\n",
      "7500/7500 [==============================] - 5s 680us/step - loss: 0.1371 - accuracy: 0.9606\n",
      "Epoch 20/20\n",
      "7500/7500 [==============================] - 5s 652us/step - loss: 0.1324 - accuracy: 0.9621\n"
     ]
    },
    {
     "data": {
      "text/plain": [
       "<tensorflow.python.keras.callbacks.History at 0x1f776ed0250>"
      ]
     },
     "execution_count": 12,
     "metadata": {},
     "output_type": "execute_result"
    }
   ],
   "source": [
    "# fit the model \n",
    "model2.fit(X_train, y_train, batch_size=batch_size1, epochs=20, verbose =1)"
   ]
  },
  {
   "cell_type": "code",
   "execution_count": 13,
   "metadata": {},
   "outputs": [
    {
     "name": "stdout",
     "output_type": "stream",
     "text": [
      "test score : 0.13918985426425934\n",
      "test accuracy : 0.9584000110626221\n"
     ]
    }
   ],
   "source": [
    "#evaluate the model \n",
    "\n",
    "score = model2.evaluate(X_test, y_test, verbose = 0)\n",
    "print('test score :', score[0])\n",
    "print('test accuracy :', score[1])"
   ]
  },
  {
   "cell_type": "code",
   "execution_count": 14,
   "metadata": {},
   "outputs": [],
   "source": [
    "#build the model object \n",
    "model3 = Sequential()\n",
    "\n",
    "#first dense layer \n",
    "model3.add(Dense(128, input_shape=(784,), activation='relu'))\n",
    "\n",
    "# the second dense layer \n",
    "model3.add(Dense(64, activation='relu'))\n",
    "\n",
    "#last layer is the output layer \n",
    "model3.add(Dense(10, activation = 'softmax'))"
   ]
  },
  {
   "cell_type": "code",
   "execution_count": 15,
   "metadata": {},
   "outputs": [],
   "source": [
    "#compile the model, need to define optimizer, loss function, metric to measure performance \n",
    "\n",
    "model3.compile(optimizer = 'sgd', loss = 'categorical_crossentropy', metrics = ['accuracy'])"
   ]
  },
  {
   "cell_type": "code",
   "execution_count": 16,
   "metadata": {},
   "outputs": [
    {
     "name": "stdout",
     "output_type": "stream",
     "text": [
      "Epoch 1/20\n",
      "469/469 [==============================] - 1s 1ms/step - loss: 1.8259 - accuracy: 0.4528\n",
      "Epoch 2/20\n",
      "469/469 [==============================] - 1s 1ms/step - loss: 0.5683 - accuracy: 0.8554\n",
      "Epoch 3/20\n",
      "469/469 [==============================] - 1s 1ms/step - loss: 0.4088 - accuracy: 0.8894\n",
      "Epoch 4/20\n",
      "469/469 [==============================] - 1s 1ms/step - loss: 0.3551 - accuracy: 0.9010\n",
      "Epoch 5/20\n",
      "469/469 [==============================] - 1s 1ms/step - loss: 0.3170 - accuracy: 0.9106\n",
      "Epoch 6/20\n",
      "469/469 [==============================] - 1s 1ms/step - loss: 0.2902 - accuracy: 0.9169\n",
      "Epoch 7/20\n",
      "469/469 [==============================] - 1s 1ms/step - loss: 0.2781 - accuracy: 0.9200\n",
      "Epoch 8/20\n",
      "469/469 [==============================] - 1s 1ms/step - loss: 0.2629 - accuracy: 0.9257\n",
      "Epoch 9/20\n",
      "469/469 [==============================] - 1s 1ms/step - loss: 0.2521 - accuracy: 0.9275\n",
      "Epoch 10/20\n",
      "469/469 [==============================] - 1s 1ms/step - loss: 0.2361 - accuracy: 0.9328\n",
      "Epoch 11/20\n",
      "469/469 [==============================] - 1s 1ms/step - loss: 0.2319 - accuracy: 0.9336\n",
      "Epoch 12/20\n",
      "469/469 [==============================] - 1s 1ms/step - loss: 0.2208 - accuracy: 0.9375\n",
      "Epoch 13/20\n",
      "469/469 [==============================] - 1s 1ms/step - loss: 0.2133 - accuracy: 0.9388\n",
      "Epoch 14/20\n",
      "469/469 [==============================] - 1s 1ms/step - loss: 0.2070 - accuracy: 0.9405\n",
      "Epoch 15/20\n",
      "469/469 [==============================] - 1s 1ms/step - loss: 0.1934 - accuracy: 0.9451\n",
      "Epoch 16/20\n",
      "469/469 [==============================] - 1s 1ms/step - loss: 0.1881 - accuracy: 0.9464\n",
      "Epoch 17/20\n",
      "469/469 [==============================] - 1s 1ms/step - loss: 0.1817 - accuracy: 0.9481\n",
      "Epoch 18/20\n",
      "469/469 [==============================] - 1s 1ms/step - loss: 0.1793 - accuracy: 0.9489\n",
      "Epoch 19/20\n",
      "469/469 [==============================] - 1s 1ms/step - loss: 0.1747 - accuracy: 0.9494\n",
      "Epoch 20/20\n",
      "469/469 [==============================] - 1s 1ms/step - loss: 0.1682 - accuracy: 0.9509\n"
     ]
    },
    {
     "data": {
      "text/plain": [
       "<tensorflow.python.keras.callbacks.History at 0x1f778256370>"
      ]
     },
     "execution_count": 16,
     "metadata": {},
     "output_type": "execute_result"
    }
   ],
   "source": [
    "# fit the model \n",
    "model3.fit(X_train, y_train, batch_size=batch_size2, epochs=20, verbose =1)"
   ]
  },
  {
   "cell_type": "code",
   "execution_count": 17,
   "metadata": {},
   "outputs": [
    {
     "name": "stdout",
     "output_type": "stream",
     "text": [
      "test score : 0.16372579336166382\n",
      "test accuracy : 0.9526000022888184\n"
     ]
    }
   ],
   "source": [
    "#evaluate the model \n",
    "\n",
    "score = model3.evaluate(X_test, y_test, verbose = 0)\n",
    "print('test score :', score[0])\n",
    "print('test accuracy :', score[1])"
   ]
  },
  {
   "cell_type": "code",
   "execution_count": 18,
   "metadata": {},
   "outputs": [],
   "source": []
  }
 ],
 "metadata": {
  "kernelspec": {
   "display_name": "Python 3",
   "language": "python",
   "name": "python3"
  },
  "language_info": {
   "codemirror_mode": {
    "name": "ipython",
    "version": 3
   },
   "file_extension": ".py",
   "mimetype": "text/x-python",
   "name": "python",
   "nbconvert_exporter": "python",
   "pygments_lexer": "ipython3",
   "version": "3.8.5"
  }
 },
 "nbformat": 4,
 "nbformat_minor": 4
}
