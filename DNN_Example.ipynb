{
 "cells": [
  {
   "cell_type": "code",
   "execution_count": 17,
   "metadata": {},
   "outputs": [],
   "source": [
    "from tensorflow.keras.models import Sequential "
   ]
  },
  {
   "cell_type": "code",
   "execution_count": 18,
   "metadata": {},
   "outputs": [],
   "source": [
    "#first create a model object \n",
    "# then add layers to the model one by one \n",
    "\n",
    "#after the model is built \n",
    "\n",
    "#define optimizer and compile the model \n",
    "# train the model using training data \n",
    "# evaluate the performance of the model on a test set \n",
    "\n"
   ]
  },
  {
   "cell_type": "code",
   "execution_count": 19,
   "metadata": {},
   "outputs": [],
   "source": [
    "# get the data in \n",
    "import warnings \n",
    "warnings.filterwarnings(\"ignore\")\n",
    "\n",
    "from tensorflow.keras.datasets import mnist"
   ]
  },
  {
   "cell_type": "code",
   "execution_count": 20,
   "metadata": {},
   "outputs": [],
   "source": [
    "# do the preprocessing \n",
    "(X_train, y_train), (X_test, y_test) = mnist.load_data()\n",
    "\n",
    "input_dim = 784 \n",
    "output_dim = nb_classes = 10 \n",
    "batch_size = 128\n",
    "nb_epoch = 20 \n",
    "\n",
    "X_train = X_train.reshape(60000, input_dim)\n",
    "X_test = X_test.reshape(10000, input_dim)\n",
    "X_train = X_train.astype('float32')\n",
    "X_test = X_test.astype('float32')\n",
    "X_train /= 255\n",
    "X_test /= 255"
   ]
  },
  {
   "cell_type": "code",
   "execution_count": 21,
   "metadata": {},
   "outputs": [],
   "source": [
    "# one hot encode the target variable using the to_categorical function from the keras.utils\n",
    "\n",
    "from tensorflow.keras.utils import to_categorical \n",
    "\n",
    "y_train = to_categorical(y_train, nb_classes)\n",
    "y_test = to_categorical(y_test, nb_classes)"
   ]
  },
  {
   "cell_type": "code",
   "execution_count": 22,
   "metadata": {},
   "outputs": [
    {
     "data": {
      "text/plain": [
       "(784,)"
      ]
     },
     "execution_count": 22,
     "metadata": {},
     "output_type": "execute_result"
    }
   ],
   "source": [
    "#check the size of the dataset \n",
    "X_train[0].shape"
   ]
  },
  {
   "cell_type": "code",
   "execution_count": 23,
   "metadata": {},
   "outputs": [],
   "source": [
    "from tensorflow.keras.layers import Dense \n",
    "\n",
    "#build the model object \n",
    "model = Sequential()\n",
    "\n",
    "#first dense layer \n",
    "model.add(Dense(32, input_shape=(784,), activation='relu'))\n",
    "\n",
    "# the second dense layer \n",
    "model.add(Dense(16, activation='relu'))\n",
    "\n",
    "#last layer is the output layer \n",
    "model.add(Dense(10, activation = 'softmax'))"
   ]
  },
  {
   "cell_type": "code",
   "execution_count": 24,
   "metadata": {},
   "outputs": [
    {
     "name": "stdout",
     "output_type": "stream",
     "text": [
      "Model: \"sequential_1\"\n",
      "_________________________________________________________________\n",
      "Layer (type)                 Output Shape              Param #   \n",
      "=================================================================\n",
      "dense_3 (Dense)              (None, 32)                25120     \n",
      "_________________________________________________________________\n",
      "dense_4 (Dense)              (None, 16)                528       \n",
      "_________________________________________________________________\n",
      "dense_5 (Dense)              (None, 10)                170       \n",
      "=================================================================\n",
      "Total params: 25,818\n",
      "Trainable params: 25,818\n",
      "Non-trainable params: 0\n",
      "_________________________________________________________________\n"
     ]
    }
   ],
   "source": [
    "#get info on the model \n",
    "model.summary()"
   ]
  },
  {
   "cell_type": "code",
   "execution_count": 25,
   "metadata": {},
   "outputs": [],
   "source": [
    "#compile the model, need to define optimizer, loss function, metric to measure performance \n",
    "\n",
    "model.compile(optimizer = 'sgd', loss = 'categorical_crossentropy', metrics = ['accuracy'])"
   ]
  },
  {
   "cell_type": "code",
   "execution_count": 26,
   "metadata": {},
   "outputs": [
    {
     "name": "stdout",
     "output_type": "stream",
     "text": [
      "Epoch 1/20\n",
      "469/469 [==============================] - 1s 1ms/step - loss: 2.0640 - accuracy: 0.2637\n",
      "Epoch 2/20\n",
      "469/469 [==============================] - 0s 1ms/step - loss: 1.0005 - accuracy: 0.7298\n",
      "Epoch 3/20\n",
      "469/469 [==============================] - 0s 867us/step - loss: 0.5478 - accuracy: 0.8517\n",
      "Epoch 4/20\n",
      "469/469 [==============================] - 0s 1ms/step - loss: 0.4289 - accuracy: 0.8793\n",
      "Epoch 5/20\n",
      "469/469 [==============================] - 0s 1ms/step - loss: 0.3713 - accuracy: 0.8927\n",
      "Epoch 6/20\n",
      "469/469 [==============================] - 0s 835us/step - loss: 0.3442 - accuracy: 0.9005\n",
      "Epoch 7/20\n",
      "469/469 [==============================] - 0s 910us/step - loss: 0.3274 - accuracy: 0.9052\n",
      "Epoch 8/20\n",
      "469/469 [==============================] - 1s 1ms/step - loss: 0.3022 - accuracy: 0.9132\n",
      "Epoch 9/20\n",
      "469/469 [==============================] - 1s 1ms/step - loss: 0.2855 - accuracy: 0.9177\n",
      "Epoch 10/20\n",
      "469/469 [==============================] - 0s 929us/step - loss: 0.2753 - accuracy: 0.9202\n",
      "Epoch 11/20\n",
      "469/469 [==============================] - 0s 880us/step - loss: 0.2711 - accuracy: 0.9233\n",
      "Epoch 12/20\n",
      "469/469 [==============================] - 0s 965us/step - loss: 0.2535 - accuracy: 0.9278\n",
      "Epoch 13/20\n",
      "469/469 [==============================] - 0s 864us/step - loss: 0.2470 - accuracy: 0.9294\n",
      "Epoch 14/20\n",
      "469/469 [==============================] - 0s 1ms/step - loss: 0.2398 - accuracy: 0.9310\n",
      "Epoch 15/20\n",
      "469/469 [==============================] - 0s 933us/step - loss: 0.2351 - accuracy: 0.9323\n",
      "Epoch 16/20\n",
      "469/469 [==============================] - 0s 895us/step - loss: 0.2267 - accuracy: 0.9342\n",
      "Epoch 17/20\n",
      "469/469 [==============================] - 0s 878us/step - loss: 0.2262 - accuracy: 0.9344\n",
      "Epoch 18/20\n",
      "469/469 [==============================] - 0s 867us/step - loss: 0.2078 - accuracy: 0.9412\n",
      "Epoch 19/20\n",
      "469/469 [==============================] - 0s 838us/step - loss: 0.2075 - accuracy: 0.9397\n",
      "Epoch 20/20\n",
      "469/469 [==============================] - 0s 872us/step - loss: 0.2029 - accuracy: 0.9414\n"
     ]
    },
    {
     "data": {
      "text/plain": [
       "<tensorflow.python.keras.callbacks.History at 0x20d8da91a30>"
      ]
     },
     "execution_count": 26,
     "metadata": {},
     "output_type": "execute_result"
    }
   ],
   "source": [
    "# fit the model \n",
    "model.fit(X_train, y_train, batch_size=batch_size, epochs=20, verbose =1)"
   ]
  },
  {
   "cell_type": "code",
   "execution_count": 27,
   "metadata": {},
   "outputs": [
    {
     "name": "stdout",
     "output_type": "stream",
     "text": [
      "test score : 0.2005218118429184\n",
      "test accuracy : 0.9412000179290771\n"
     ]
    }
   ],
   "source": [
    "#evaluate the model \n",
    "\n",
    "score = model.evaluate(X_test, y_test, verbose = 0)\n",
    "print('test score :', score[0])\n",
    "print('test accuracy :', score[1])"
   ]
  },
  {
   "cell_type": "code",
   "execution_count": 28,
   "metadata": {},
   "outputs": [],
   "source": [
    "# slightly worse performance with far quicker speed , a few percentage points less accurate \n",
    "\n",
    "# try the second model \n",
    "\n",
    "\n",
    "\n",
    "#build the model object \n",
    "model2 = Sequential()\n",
    "\n",
    "#first dense layer \n",
    "model2.add(Dense(1024, input_shape=(784,), activation='relu'))\n",
    "\n",
    "# the second dense layer \n",
    "model2.add(Dense(512, activation='relu'))\n",
    "\n",
    "# the third dense layer \n",
    "model2.add(Dense(256, activation='relu'))\n",
    "\n",
    "# the 4th dense layer \n",
    "model2.add(Dense(128, activation='relu'))\n",
    "\n",
    "# 5th dense layer \n",
    "model2.add(Dense(64, activation='relu'))\n",
    "\n",
    "#last layer is the output layer \n",
    "model2.add(Dense(10, activation = 'softmax'))"
   ]
  },
  {
   "cell_type": "code",
   "execution_count": 29,
   "metadata": {},
   "outputs": [
    {
     "name": "stdout",
     "output_type": "stream",
     "text": [
      "Model: \"sequential_2\"\n",
      "_________________________________________________________________\n",
      "Layer (type)                 Output Shape              Param #   \n",
      "=================================================================\n",
      "dense_6 (Dense)              (None, 1024)              803840    \n",
      "_________________________________________________________________\n",
      "dense_7 (Dense)              (None, 512)               524800    \n",
      "_________________________________________________________________\n",
      "dense_8 (Dense)              (None, 256)               131328    \n",
      "_________________________________________________________________\n",
      "dense_9 (Dense)              (None, 128)               32896     \n",
      "_________________________________________________________________\n",
      "dense_10 (Dense)             (None, 64)                8256      \n",
      "_________________________________________________________________\n",
      "dense_11 (Dense)             (None, 10)                650       \n",
      "=================================================================\n",
      "Total params: 1,501,770\n",
      "Trainable params: 1,501,770\n",
      "Non-trainable params: 0\n",
      "_________________________________________________________________\n"
     ]
    }
   ],
   "source": [
    "#get info on the model \n",
    "model2.summary()"
   ]
  },
  {
   "cell_type": "code",
   "execution_count": 33,
   "metadata": {},
   "outputs": [],
   "source": [
    "#compile the model, need to define optimizer, loss function, metric to measure performance \n",
    "\n",
    "model2.compile(optimizer = 'sgd', loss = 'categorical_crossentropy', metrics = ['accuracy'])"
   ]
  },
  {
   "cell_type": "code",
   "execution_count": 34,
   "metadata": {},
   "outputs": [
    {
     "name": "stdout",
     "output_type": "stream",
     "text": [
      "Epoch 1/20\n",
      "469/469 [==============================] - 5s 9ms/step - loss: 1.8411 - accuracy: 0.4299\n",
      "Epoch 2/20\n",
      "469/469 [==============================] - 4s 9ms/step - loss: 0.4000 - accuracy: 0.8917\n",
      "Epoch 3/20\n",
      "469/469 [==============================] - 5s 10ms/step - loss: 0.2855 - accuracy: 0.9187\n",
      "Epoch 4/20\n",
      "469/469 [==============================] - 4s 9ms/step - loss: 0.2338 - accuracy: 0.9329\n",
      "Epoch 5/20\n",
      "469/469 [==============================] - 4s 9ms/step - loss: 0.1995 - accuracy: 0.9416\n",
      "Epoch 6/20\n",
      "469/469 [==============================] - 4s 9ms/step - loss: 0.1775 - accuracy: 0.9486\n",
      "Epoch 7/20\n",
      "469/469 [==============================] - 4s 10ms/step - loss: 0.1554 - accuracy: 0.9559\n",
      "Epoch 8/20\n",
      "469/469 [==============================] - 4s 9ms/step - loss: 0.1430 - accuracy: 0.9590\n",
      "Epoch 9/20\n",
      "469/469 [==============================] - 4s 9ms/step - loss: 0.1232 - accuracy: 0.9643\n",
      "Epoch 10/20\n",
      "469/469 [==============================] - 4s 9ms/step - loss: 0.1150 - accuracy: 0.9673\n",
      "Epoch 11/20\n",
      "469/469 [==============================] - 4s 10ms/step - loss: 0.1045 - accuracy: 0.9690\n",
      "Epoch 12/20\n",
      "469/469 [==============================] - 4s 9ms/step - loss: 0.0960 - accuracy: 0.9725\n",
      "Epoch 13/20\n",
      "469/469 [==============================] - 4s 9ms/step - loss: 0.0891 - accuracy: 0.9744\n",
      "Epoch 14/20\n",
      "469/469 [==============================] - 5s 10ms/step - loss: 0.0834 - accuracy: 0.9767\n",
      "Epoch 15/20\n",
      "469/469 [==============================] - 4s 10ms/step - loss: 0.0745 - accuracy: 0.9792\n",
      "Epoch 16/20\n",
      "469/469 [==============================] - 5s 11ms/step - loss: 0.0679 - accuracy: 0.9801\n",
      "Epoch 17/20\n",
      "469/469 [==============================] - 5s 10ms/step - loss: 0.0653 - accuracy: 0.9806\n",
      "Epoch 18/20\n",
      "469/469 [==============================] - 5s 10ms/step - loss: 0.0605 - accuracy: 0.9830\n",
      "Epoch 19/20\n",
      "469/469 [==============================] - 5s 10ms/step - loss: 0.0537 - accuracy: 0.9854\n",
      "Epoch 20/20\n",
      "469/469 [==============================] - 5s 10ms/step - loss: 0.0522 - accuracy: 0.9863\n"
     ]
    },
    {
     "data": {
      "text/plain": [
       "<tensorflow.python.keras.callbacks.History at 0x20d8e4267c0>"
      ]
     },
     "execution_count": 34,
     "metadata": {},
     "output_type": "execute_result"
    }
   ],
   "source": [
    "# fit the model \n",
    "model2.fit(X_train, y_train, batch_size=batch_size, epochs=20, verbose =1)"
   ]
  },
  {
   "cell_type": "code",
   "execution_count": 35,
   "metadata": {},
   "outputs": [
    {
     "name": "stdout",
     "output_type": "stream",
     "text": [
      "test score : 0.08605443686246872\n",
      "test accuracy : 0.9735000133514404\n"
     ]
    }
   ],
   "source": [
    "#evaluate the model \n",
    "\n",
    "score = model2.evaluate(X_test, y_test, verbose = 0)\n",
    "print('test score :', score[0])\n",
    "print('test accuracy :', score[1])"
   ]
  },
  {
   "cell_type": "code",
   "execution_count": null,
   "metadata": {},
   "outputs": [],
   "source": []
  }
 ],
 "metadata": {
  "kernelspec": {
   "display_name": "Python 3",
   "language": "python",
   "name": "python3"
  },
  "language_info": {
   "codemirror_mode": {
    "name": "ipython",
    "version": 3
   },
   "file_extension": ".py",
   "mimetype": "text/x-python",
   "name": "python",
   "nbconvert_exporter": "python",
   "pygments_lexer": "ipython3",
   "version": "3.8.5"
  }
 },
 "nbformat": 4,
 "nbformat_minor": 4
}
