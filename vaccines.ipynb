{
 "cells": [
  {
   "cell_type": "code",
   "execution_count": 1,
   "metadata": {},
   "outputs": [],
   "source": [
    "import pandas as pd \n",
    "import numpy as np "
   ]
  },
  {
   "cell_type": "markdown",
   "metadata": {},
   "source": [
    "This dataset was taken from kaggle and contains the text from thousands of tweets regarding vaccination. It contains the text of the tweet, and metrics about the poster of the tweet.  "
   ]
  },
  {
   "cell_type": "code",
   "execution_count": 2,
   "metadata": {},
   "outputs": [],
   "source": [
    "#get the data in \n",
    "\n",
    "raw_df= pd.read_csv(r'C:\\Users\\Devin\\Desktop\\thinkful\\unsupervised\\vaccination_all_tweets.csv')"
   ]
  },
  {
   "cell_type": "code",
   "execution_count": 3,
   "metadata": {},
   "outputs": [
    {
     "data": {
      "text/html": [
       "<div>\n",
       "<style scoped>\n",
       "    .dataframe tbody tr th:only-of-type {\n",
       "        vertical-align: middle;\n",
       "    }\n",
       "\n",
       "    .dataframe tbody tr th {\n",
       "        vertical-align: top;\n",
       "    }\n",
       "\n",
       "    .dataframe thead th {\n",
       "        text-align: right;\n",
       "    }\n",
       "</style>\n",
       "<table border=\"1\" class=\"dataframe\">\n",
       "  <thead>\n",
       "    <tr style=\"text-align: right;\">\n",
       "      <th></th>\n",
       "      <th>id</th>\n",
       "      <th>user_name</th>\n",
       "      <th>user_location</th>\n",
       "      <th>user_description</th>\n",
       "      <th>user_created</th>\n",
       "      <th>user_followers</th>\n",
       "      <th>user_friends</th>\n",
       "      <th>user_favourites</th>\n",
       "      <th>user_verified</th>\n",
       "      <th>date</th>\n",
       "      <th>text</th>\n",
       "      <th>hashtags</th>\n",
       "      <th>source</th>\n",
       "      <th>retweets</th>\n",
       "      <th>favorites</th>\n",
       "      <th>is_retweet</th>\n",
       "    </tr>\n",
       "  </thead>\n",
       "  <tbody>\n",
       "    <tr>\n",
       "      <th>0</th>\n",
       "      <td>1340539111971516416</td>\n",
       "      <td>Rachel Roh</td>\n",
       "      <td>La Crescenta-Montrose, CA</td>\n",
       "      <td>Aggregator of Asian American news; scanning di...</td>\n",
       "      <td>2009-04-08 17:52:46</td>\n",
       "      <td>405</td>\n",
       "      <td>1692</td>\n",
       "      <td>3247</td>\n",
       "      <td>False</td>\n",
       "      <td>2020-12-20 06:06:44</td>\n",
       "      <td>Same folks said daikon paste could treat a cyt...</td>\n",
       "      <td>['PfizerBioNTech']</td>\n",
       "      <td>Twitter for Android</td>\n",
       "      <td>0</td>\n",
       "      <td>0</td>\n",
       "      <td>False</td>\n",
       "    </tr>\n",
       "    <tr>\n",
       "      <th>1</th>\n",
       "      <td>1338158543359250433</td>\n",
       "      <td>Albert Fong</td>\n",
       "      <td>San Francisco, CA</td>\n",
       "      <td>Marketing dude, tech geek, heavy metal &amp; '80s ...</td>\n",
       "      <td>2009-09-21 15:27:30</td>\n",
       "      <td>834</td>\n",
       "      <td>666</td>\n",
       "      <td>178</td>\n",
       "      <td>False</td>\n",
       "      <td>2020-12-13 16:27:13</td>\n",
       "      <td>While the world has been on the wrong side of ...</td>\n",
       "      <td>NaN</td>\n",
       "      <td>Twitter Web App</td>\n",
       "      <td>1</td>\n",
       "      <td>1</td>\n",
       "      <td>False</td>\n",
       "    </tr>\n",
       "    <tr>\n",
       "      <th>2</th>\n",
       "      <td>1337858199140118533</td>\n",
       "      <td>eli🇱🇹🇪🇺👌</td>\n",
       "      <td>Your Bed</td>\n",
       "      <td>heil, hydra 🖐☺</td>\n",
       "      <td>2020-06-25 23:30:28</td>\n",
       "      <td>10</td>\n",
       "      <td>88</td>\n",
       "      <td>155</td>\n",
       "      <td>False</td>\n",
       "      <td>2020-12-12 20:33:45</td>\n",
       "      <td>#coronavirus #SputnikV #AstraZeneca #PfizerBio...</td>\n",
       "      <td>['coronavirus', 'SputnikV', 'AstraZeneca', 'Pf...</td>\n",
       "      <td>Twitter for Android</td>\n",
       "      <td>0</td>\n",
       "      <td>0</td>\n",
       "      <td>False</td>\n",
       "    </tr>\n",
       "    <tr>\n",
       "      <th>3</th>\n",
       "      <td>1337855739918835717</td>\n",
       "      <td>Charles Adler</td>\n",
       "      <td>Vancouver, BC - Canada</td>\n",
       "      <td>Hosting \"CharlesAdlerTonight\" Global News Radi...</td>\n",
       "      <td>2008-09-10 11:28:53</td>\n",
       "      <td>49165</td>\n",
       "      <td>3933</td>\n",
       "      <td>21853</td>\n",
       "      <td>True</td>\n",
       "      <td>2020-12-12 20:23:59</td>\n",
       "      <td>Facts are immutable, Senator, even when you're...</td>\n",
       "      <td>NaN</td>\n",
       "      <td>Twitter Web App</td>\n",
       "      <td>446</td>\n",
       "      <td>2129</td>\n",
       "      <td>False</td>\n",
       "    </tr>\n",
       "    <tr>\n",
       "      <th>4</th>\n",
       "      <td>1337854064604966912</td>\n",
       "      <td>Citizen News Channel</td>\n",
       "      <td>NaN</td>\n",
       "      <td>Citizen News Channel bringing you an alternati...</td>\n",
       "      <td>2020-04-23 17:58:42</td>\n",
       "      <td>152</td>\n",
       "      <td>580</td>\n",
       "      <td>1473</td>\n",
       "      <td>False</td>\n",
       "      <td>2020-12-12 20:17:19</td>\n",
       "      <td>Explain to me again why we need a vaccine @Bor...</td>\n",
       "      <td>['whereareallthesickpeople', 'PfizerBioNTech']</td>\n",
       "      <td>Twitter for iPhone</td>\n",
       "      <td>0</td>\n",
       "      <td>0</td>\n",
       "      <td>False</td>\n",
       "    </tr>\n",
       "  </tbody>\n",
       "</table>\n",
       "</div>"
      ],
      "text/plain": [
       "                    id             user_name              user_location  \\\n",
       "0  1340539111971516416            Rachel Roh  La Crescenta-Montrose, CA   \n",
       "1  1338158543359250433           Albert Fong          San Francisco, CA   \n",
       "2  1337858199140118533              eli🇱🇹🇪🇺👌                   Your Bed   \n",
       "3  1337855739918835717         Charles Adler     Vancouver, BC - Canada   \n",
       "4  1337854064604966912  Citizen News Channel                        NaN   \n",
       "\n",
       "                                    user_description         user_created  \\\n",
       "0  Aggregator of Asian American news; scanning di...  2009-04-08 17:52:46   \n",
       "1  Marketing dude, tech geek, heavy metal & '80s ...  2009-09-21 15:27:30   \n",
       "2                                     heil, hydra 🖐☺  2020-06-25 23:30:28   \n",
       "3  Hosting \"CharlesAdlerTonight\" Global News Radi...  2008-09-10 11:28:53   \n",
       "4  Citizen News Channel bringing you an alternati...  2020-04-23 17:58:42   \n",
       "\n",
       "   user_followers  user_friends  user_favourites  user_verified  \\\n",
       "0             405          1692             3247          False   \n",
       "1             834           666              178          False   \n",
       "2              10            88              155          False   \n",
       "3           49165          3933            21853           True   \n",
       "4             152           580             1473          False   \n",
       "\n",
       "                  date                                               text  \\\n",
       "0  2020-12-20 06:06:44  Same folks said daikon paste could treat a cyt...   \n",
       "1  2020-12-13 16:27:13  While the world has been on the wrong side of ...   \n",
       "2  2020-12-12 20:33:45  #coronavirus #SputnikV #AstraZeneca #PfizerBio...   \n",
       "3  2020-12-12 20:23:59  Facts are immutable, Senator, even when you're...   \n",
       "4  2020-12-12 20:17:19  Explain to me again why we need a vaccine @Bor...   \n",
       "\n",
       "                                            hashtags               source  \\\n",
       "0                                 ['PfizerBioNTech']  Twitter for Android   \n",
       "1                                                NaN      Twitter Web App   \n",
       "2  ['coronavirus', 'SputnikV', 'AstraZeneca', 'Pf...  Twitter for Android   \n",
       "3                                                NaN      Twitter Web App   \n",
       "4     ['whereareallthesickpeople', 'PfizerBioNTech']   Twitter for iPhone   \n",
       "\n",
       "   retweets  favorites  is_retweet  \n",
       "0         0          0       False  \n",
       "1         1          1       False  \n",
       "2         0          0       False  \n",
       "3       446       2129       False  \n",
       "4         0          0       False  "
      ]
     },
     "execution_count": 3,
     "metadata": {},
     "output_type": "execute_result"
    }
   ],
   "source": [
    "raw_df.head()"
   ]
  },
  {
   "cell_type": "code",
   "execution_count": 4,
   "metadata": {},
   "outputs": [
    {
     "name": "stdout",
     "output_type": "stream",
     "text": [
      "<class 'pandas.core.frame.DataFrame'>\n",
      "RangeIndex: 46059 entries, 0 to 46058\n",
      "Data columns (total 16 columns):\n",
      " #   Column            Non-Null Count  Dtype \n",
      "---  ------            --------------  ----- \n",
      " 0   id                46059 non-null  int64 \n",
      " 1   user_name         46059 non-null  object\n",
      " 2   user_location     35694 non-null  object\n",
      " 3   user_description  42969 non-null  object\n",
      " 4   user_created      46059 non-null  object\n",
      " 5   user_followers    46059 non-null  int64 \n",
      " 6   user_friends      46059 non-null  int64 \n",
      " 7   user_favourites   46059 non-null  int64 \n",
      " 8   user_verified     46059 non-null  bool  \n",
      " 9   date              46059 non-null  object\n",
      " 10  text              46059 non-null  object\n",
      " 11  hashtags          36243 non-null  object\n",
      " 12  source            46017 non-null  object\n",
      " 13  retweets          46059 non-null  int64 \n",
      " 14  favorites         46059 non-null  int64 \n",
      " 15  is_retweet        46059 non-null  bool  \n",
      "dtypes: bool(2), int64(6), object(8)\n",
      "memory usage: 5.0+ MB\n"
     ]
    }
   ],
   "source": [
    "raw_df.info()"
   ]
  },
  {
   "cell_type": "code",
   "execution_count": 5,
   "metadata": {},
   "outputs": [],
   "source": [
    "#ok, data contains numerous users and their tweets on vaccination \n",
    "\n",
    "#lets see if we can group them \n",
    "\n",
    "#ok, start by isolating the numeric features and going from there \n",
    "\n",
    "# we want to keep user id, user_followers, user_friends, user_favorites, user_verified, (date - transform this ), retweets, favorites, and is retweet "
   ]
  },
  {
   "cell_type": "code",
   "execution_count": 6,
   "metadata": {},
   "outputs": [
    {
     "data": {
      "text/plain": [
       "0        2020-12-20 06:06:44\n",
       "1        2020-12-13 16:27:13\n",
       "2        2020-12-12 20:33:45\n",
       "3        2020-12-12 20:23:59\n",
       "4        2020-12-12 20:17:19\n",
       "                ...         \n",
       "46054    2021-03-28 07:53:51\n",
       "46055    2021-03-28 07:28:26\n",
       "46056    2021-03-28 07:07:51\n",
       "46057    2021-03-28 06:29:10\n",
       "46058    2021-03-28 06:23:51\n",
       "Name: date, Length: 46059, dtype: object"
      ]
     },
     "execution_count": 6,
     "metadata": {},
     "output_type": "execute_result"
    }
   ],
   "source": [
    "#first, transform the date to something we can work with \n",
    "\n",
    "raw_df['date']"
   ]
  },
  {
   "cell_type": "code",
   "execution_count": 7,
   "metadata": {},
   "outputs": [],
   "source": [
    "#convert it to a datatime object \n",
    "\n",
    "raw_df['date'] = pd.to_datetime(raw_df['date'])\n"
   ]
  },
  {
   "cell_type": "code",
   "execution_count": 8,
   "metadata": {},
   "outputs": [
    {
     "data": {
      "text/plain": [
       "0       2020-12-20 06:06:44\n",
       "1       2020-12-13 16:27:13\n",
       "2       2020-12-12 20:33:45\n",
       "3       2020-12-12 20:23:59\n",
       "4       2020-12-12 20:17:19\n",
       "                ...        \n",
       "46054   2021-03-28 07:53:51\n",
       "46055   2021-03-28 07:28:26\n",
       "46056   2021-03-28 07:07:51\n",
       "46057   2021-03-28 06:29:10\n",
       "46058   2021-03-28 06:23:51\n",
       "Name: date, Length: 46059, dtype: datetime64[ns]"
      ]
     },
     "execution_count": 8,
     "metadata": {},
     "output_type": "execute_result"
    }
   ],
   "source": [
    "#ok, looks good \n",
    "raw_df['date']"
   ]
  },
  {
   "cell_type": "code",
   "execution_count": 9,
   "metadata": {},
   "outputs": [],
   "source": [
    "# seperating into the seperate features \n",
    "raw_df['year'] = raw_df['date'].dt.year\n",
    "raw_df['month'] = raw_df['date'].dt.month\n",
    "raw_df['day'] = raw_df['date'].dt.day"
   ]
  },
  {
   "cell_type": "code",
   "execution_count": 10,
   "metadata": {},
   "outputs": [],
   "source": [
    "raw_df.drop('date', axis=1, inplace=True)"
   ]
  },
  {
   "cell_type": "code",
   "execution_count": 11,
   "metadata": {},
   "outputs": [
    {
     "name": "stdout",
     "output_type": "stream",
     "text": [
      "<class 'pandas.core.frame.DataFrame'>\n",
      "RangeIndex: 46059 entries, 0 to 46058\n",
      "Data columns (total 18 columns):\n",
      " #   Column            Non-Null Count  Dtype \n",
      "---  ------            --------------  ----- \n",
      " 0   id                46059 non-null  int64 \n",
      " 1   user_name         46059 non-null  object\n",
      " 2   user_location     35694 non-null  object\n",
      " 3   user_description  42969 non-null  object\n",
      " 4   user_created      46059 non-null  object\n",
      " 5   user_followers    46059 non-null  int64 \n",
      " 6   user_friends      46059 non-null  int64 \n",
      " 7   user_favourites   46059 non-null  int64 \n",
      " 8   user_verified     46059 non-null  bool  \n",
      " 9   text              46059 non-null  object\n",
      " 10  hashtags          36243 non-null  object\n",
      " 11  source            46017 non-null  object\n",
      " 12  retweets          46059 non-null  int64 \n",
      " 13  favorites         46059 non-null  int64 \n",
      " 14  is_retweet        46059 non-null  bool  \n",
      " 15  year              46059 non-null  int64 \n",
      " 16  month             46059 non-null  int64 \n",
      " 17  day               46059 non-null  int64 \n",
      "dtypes: bool(2), int64(9), object(7)\n",
      "memory usage: 5.7+ MB\n"
     ]
    }
   ],
   "source": [
    "#see what else we have left... \n",
    "raw_df.info()\n",
    "\n",
    "#ok, lets narrow it down to just the features that were mentioned earlier. \n",
    "# we can reference all the string data later with the unique user id if we want info on a specific user "
   ]
  },
  {
   "cell_type": "code",
   "execution_count": 12,
   "metadata": {},
   "outputs": [],
   "source": [
    "df = raw_df[['id', 'user_followers', 'user_friends', 'user_favourites', 'user_verified', 'retweets', 'favorites', \n",
    "             'is_retweet' ]]\n",
    "\n",
    "#including the datetime information produces poor clusters due to it's continuous nature\n",
    "#does not add much information to this exploration, lets remove it  "
   ]
  },
  {
   "cell_type": "code",
   "execution_count": 13,
   "metadata": {},
   "outputs": [
    {
     "name": "stdout",
     "output_type": "stream",
     "text": [
      "<class 'pandas.core.frame.DataFrame'>\n",
      "RangeIndex: 46059 entries, 0 to 46058\n",
      "Data columns (total 8 columns):\n",
      " #   Column           Non-Null Count  Dtype\n",
      "---  ------           --------------  -----\n",
      " 0   id               46059 non-null  int64\n",
      " 1   user_followers   46059 non-null  int64\n",
      " 2   user_friends     46059 non-null  int64\n",
      " 3   user_favourites  46059 non-null  int64\n",
      " 4   user_verified    46059 non-null  bool \n",
      " 5   retweets         46059 non-null  int64\n",
      " 6   favorites        46059 non-null  int64\n",
      " 7   is_retweet       46059 non-null  bool \n",
      "dtypes: bool(2), int64(6)\n",
      "memory usage: 2.2 MB\n"
     ]
    }
   ],
   "source": [
    "df.info()"
   ]
  },
  {
   "cell_type": "code",
   "execution_count": 14,
   "metadata": {
    "scrolled": true
   },
   "outputs": [
    {
     "data": {
      "text/plain": [
       "id                 False\n",
       "user_followers     False\n",
       "user_friends       False\n",
       "user_favourites    False\n",
       "user_verified      False\n",
       "retweets           False\n",
       "favorites          False\n",
       "is_retweet         False\n",
       "dtype: bool"
      ]
     },
     "execution_count": 14,
     "metadata": {},
     "output_type": "execute_result"
    }
   ],
   "source": [
    "df.isna().any()"
   ]
  },
  {
   "cell_type": "code",
   "execution_count": 34,
   "metadata": {},
   "outputs": [],
   "source": [
    "from sklearn.preprocessing import StandardScaler\n",
    "\n",
    "scaler = StandardScaler()\n",
    "\n",
    "df = scaler.fit_transform(df)\n",
    "\n",
    "X_std = pd.DataFrame(df)\n",
    "\n",
    "X_std2 = X_std.copy()\n",
    "\n",
    "X_std3 = pd.DataFrame(df)"
   ]
  },
  {
   "cell_type": "code",
   "execution_count": 16,
   "metadata": {},
   "outputs": [],
   "source": [
    "# ok split it up into 10,000 replicates for the visualization in umap \n",
    "\n",
    "indices = np.random.choice(46059, 1000)\n",
    "X_sample = X_std.loc[indices]\n"
   ]
  },
  {
   "cell_type": "code",
   "execution_count": 17,
   "metadata": {},
   "outputs": [],
   "source": [
    "# now do the umap visulization\n",
    "\n",
    "import umap \n",
    "\n",
    "umap_results = umap.UMAP(n_neighbors=40, min_dist = 0.3, metric ='correlation').fit_transform(X_sample)\n"
   ]
  },
  {
   "cell_type": "code",
   "execution_count": 18,
   "metadata": {},
   "outputs": [
    {
     "data": {
      "text/plain": [
       "Text(0.5, 1.0, 'UMAP projection of vaccine dataset')"
      ]
     },
     "execution_count": 18,
     "metadata": {},
     "output_type": "execute_result"
    },
    {
     "data": {
      "image/png": "[encoded data removed]",
      "text/plain": [
       "<Figure size 432x288 with 1 Axes>"
      ]
     },
     "metadata": {},
     "output_type": "display_data"
    }
   ],
   "source": [
    "import matplotlib.pyplot as plt \n",
    "plt.scatter(\n",
    "    umap_results[:, 0],\n",
    "    umap_results[:, 1])\n",
    "plt.xticks([])\n",
    "plt.yticks([])\n",
    "plt.axis('off')\n",
    "plt.title('UMAP projection of vaccine dataset', fontsize=24)"
   ]
  },
  {
   "cell_type": "markdown",
   "metadata": {},
   "source": [
    "This dimensionality reduction algorithm allows us to visualize the data by reducing it to 2 dimensions, whereas it was around 7 dimensions before. Human minds are not adept at visualizing anything beyond 3d, so it is common practice to utilize algorithms such as UMAP to build a 2d projection of the data that preserves the features as accuratly as possible and projects them to a 2d representation. \n",
    "\n",
    "Lets try another dimensionality reduction algorithm and see how the projection looks. "
   ]
  },
  {
   "cell_type": "code",
   "execution_count": 20,
   "metadata": {},
   "outputs": [
    {
     "name": "stdout",
     "output_type": "stream",
     "text": [
      "[t-SNE] Computing 121 nearest neighbors...\n",
      "[t-SNE] Indexed 1000 samples in 0.010s...\n",
      "[t-SNE] Computed neighbors for 1000 samples in 0.042s...\n",
      "[t-SNE] Computed conditional probabilities for sample 1000 / 1000\n",
      "[t-SNE] Mean sigma: 0.113948\n",
      "[t-SNE] KL divergence after 250 iterations with early exaggeration: 54.123608\n",
      "[t-SNE] KL divergence after 300 iterations: 0.468560\n"
     ]
    }
   ],
   "source": [
    "# lets try the t-sne algorithm \n",
    "\n",
    "from sklearn.manifold import TSNE \n",
    "\n",
    "tsne = TSNE(n_components = 2, verbose = 1, perplexity = 40, n_iter =300)\n",
    "\n",
    "tsne_result = tsne.fit_transform(X_sample)"
   ]
  },
  {
   "cell_type": "code",
   "execution_count": 21,
   "metadata": {},
   "outputs": [
    {
     "data": {
      "text/plain": [
       "Text(0.5, 1.0, 'T-SNE projection of vaccine dataset')"
      ]
     },
     "execution_count": 21,
     "metadata": {},
     "output_type": "execute_result"
    },
    {
     "data": {
      "image/png": "[encoded data removed]",
      "text/plain": [
       "<Figure size 432x288 with 1 Axes>"
      ]
     },
     "metadata": {},
     "output_type": "display_data"
    }
   ],
   "source": [
    "import matplotlib.pyplot as plt \n",
    "plt.scatter(\n",
    "    tsne_result[:, 0],\n",
    "    tsne_result[:, 1])\n",
    "plt.xticks([])\n",
    "plt.yticks([])\n",
    "plt.axis('off')\n",
    "plt.title('T-SNE projection of vaccine dataset', fontsize=24)"
   ]
  },
  {
   "cell_type": "markdown",
   "metadata": {},
   "source": [
    "Again, it looks like there is a total of 2 obvious groups in the dataset. UMAP seems to represent the 2 clusters as more defined and seperated than T-SNE. Additionally, UMAP is less computationally expensive than t-sne. Thus far, it has proven itself as the best choice. Lets try on last dimensionality reduction algorithm, PCA and see if it can produce a quality visualization.  "
   ]
  },
  {
   "cell_type": "code",
   "execution_count": 26,
   "metadata": {},
   "outputs": [],
   "source": [
    "from sklearn.decomposition import PCA\n",
    "\n",
    "pca = PCA(n_components=2).fit_transform(X_sample)"
   ]
  },
  {
   "cell_type": "code",
   "execution_count": 28,
   "metadata": {},
   "outputs": [
    {
     "data": {
      "text/plain": [
       "Text(0.5, 1.0, 'PCA projection of vaccine dataset')"
      ]
     },
     "execution_count": 28,
     "metadata": {},
     "output_type": "execute_result"
    },
    {
     "data": {
      "image/png": "[encoded data removed]",
      "text/plain": [
       "<Figure size 432x288 with 1 Axes>"
      ]
     },
     "metadata": {},
     "output_type": "display_data"
    }
   ],
   "source": [
    "import matplotlib.pyplot as plt \n",
    "plt.scatter(\n",
    "    X_sample.loc[:, 0],\n",
    "    X_sample.loc[:, 1])\n",
    "plt.xticks([])\n",
    "plt.yticks([])\n",
    "plt.axis('off')\n",
    "plt.title('PCA projection of vaccine dataset', fontsize=24)"
   ]
  },
  {
   "cell_type": "markdown",
   "metadata": {},
   "source": [
    "No visible clusters in this projection. Looks like UMAP will be the best choice for plotting the results. Earlier, I tried using pca for visualizing the results from different clustering models, and it produced this pattern, even when it was fit to several clustering modelks. I will use umap, as it produces quality groups, and is not as computationally expensive as t-sne. T-sne requires too many computational resources to run on my computer. \n",
    "\n",
    "Lets move on to fitting some models and examining the clusters that they produce. "
   ]
  },
  {
   "cell_type": "code",
   "execution_count": 29,
   "metadata": {},
   "outputs": [],
   "source": [
    "from sklearn.cluster import KMeans\n",
    "\n",
    "k_means = KMeans(n_clusters=3)\n",
    "k_means.fit(X_std)\n",
    "y_pred = k_means.predict(X_std)\n"
   ]
  },
  {
   "cell_type": "code",
   "execution_count": 30,
   "metadata": {},
   "outputs": [],
   "source": [
    "umap_Kmeans = umap.UMAP(n_neighbors=40, min_dist = 0.3, metric ='correlation').fit_transform(X_std)"
   ]
  },
  {
   "cell_type": "code",
   "execution_count": 31,
   "metadata": {
    "scrolled": true
   },
   "outputs": [
    {
     "data": {
      "text/plain": [
       "Text(0.5, 1.0, 'UMAP projection of vaccine dataset')"
      ]
     },
     "execution_count": 31,
     "metadata": {},
     "output_type": "execute_result"
    },
    {
     "data": {
      "image/png": "[encoded data removed]",
      "text/plain": [
       "<Figure size 432x288 with 1 Axes>"
      ]
     },
     "metadata": {},
     "output_type": "display_data"
    }
   ],
   "source": [
    "plt.scatter(\n",
    "    umap_Kmeans[:, 0],\n",
    "    umap_Kmeans[:, 1])\n",
    "plt.xticks([])\n",
    "plt.yticks([])\n",
    "plt.axis('off')\n",
    "plt.title('UMAP projection of vaccine dataset', fontsize=24)"
   ]
  },
  {
   "cell_type": "markdown",
   "metadata": {},
   "source": [
    "Looks like k-means produced a much different result than I expected. Previously, I was using pca for visualization, and got the same visualiztion between models and different parameters.\n",
    "\n",
    "We can see 2 groups between the users posting about vaccines on twitter. Perhaps the 2 groups are official accounts followed by non-offical people offering their opinions on the platform. It would be interesting to do some analysis about the characteristics of the 2 groups. \n",
    "\n",
    "Anyways, lets see if DBSCAN will produce a different result. "
   ]
  },
  {
   "cell_type": "code",
   "execution_count": 32,
   "metadata": {},
   "outputs": [],
   "source": [
    "from sklearn.cluster import DBSCAN\n",
    "\n",
    "# Defining the model\n",
    "dbscan_cluster = DBSCAN(eps=1, min_samples=1000)\n",
    "\n",
    "# Fit model\n",
    "clusters = dbscan_cluster.fit_predict(X_std2)\n"
   ]
  },
  {
   "cell_type": "code",
   "execution_count": 33,
   "metadata": {},
   "outputs": [
    {
     "data": {
      "image/png": "[encoded data removed]",
      "text/plain": [
       "<Figure size 432x288 with 1 Axes>"
      ]
     },
     "metadata": {},
     "output_type": "display_data"
    }
   ],
   "source": [
    "umap_dbscan = umap.UMAP(n_neighbors=40, min_dist = 0.3, metric ='correlation').fit_transform(X_std2)\n",
    "\n",
    "\n",
    "plt.scatter(X_std2.loc[:,0], X_std2.loc[:,1])\n",
    "plt.xticks([])\n",
    "plt.yticks([])\n",
    "plt.axis('off')\n",
    "plt.show()\n",
    "\n"
   ]
  },
  {
   "cell_type": "markdown",
   "metadata": {},
   "source": [
    "The shape of the cluster does not seem to change despite the different parameters I put into the dbscan model. Lets see if the result changes with a different model, this visualization shows no discernable groups. This particular model is a poor choice in this case. \n",
    "\n"
   ]
  },
  {
   "cell_type": "code",
   "execution_count": 38,
   "metadata": {},
   "outputs": [],
   "source": [
    "# try gaussian mixtures \n",
    "\n",
    "from sklearn.mixture import GaussianMixture\n",
    "\n",
    "gmm_clusters = GaussianMixture(n_components=2)\n",
    "\n",
    "#fit the model \n",
    "\n",
    "g_clusters = gmm_clusters.fit_predict(X_std3)"
   ]
  },
  {
   "cell_type": "code",
   "execution_count": 39,
   "metadata": {},
   "outputs": [
    {
     "data": {
      "image/png": "[encoded data removed]",
      "text/plain": [
       "<Figure size 432x288 with 1 Axes>"
      ]
     },
     "metadata": {},
     "output_type": "display_data"
    }
   ],
   "source": [
    "# now visualize it \n",
    "\n",
    "umap_gauss = umap.UMAP(n_neighbors=40, min_dist = 0.3, metric ='correlation').fit_transform(X_std3)\n",
    "\n",
    "\n",
    "plt.scatter(X_std3.loc[:,0], X_std3.loc[:,1])\n",
    "plt.xticks([])\n",
    "plt.yticks([])\n",
    "plt.axis('off')\n",
    "plt.show()\n",
    "\n"
   ]
  },
  {
   "cell_type": "markdown",
   "metadata": {},
   "source": [
    "Looks like an identical result to that of DBSCAN. I am not sure why I am getting an identical result to that of the previous model. But, nonetheless it looks like K-Means produced a pretty solid result, with 2 major groups visable. Out of the 3 models tested, it produced the best results. For further insight on this dataset, I would use k-means. \n",
    "\n"
   ]
  },
  {
   "cell_type": "code",
   "execution_count": null,
   "metadata": {},
   "outputs": [],
   "source": []
  }
 ],
 "metadata": {
  "kernelspec": {
   "display_name": "Python 3",
   "language": "python",
   "name": "python3"
  },
  "language_info": {
   "codemirror_mode": {
    "name": "ipython",
    "version": 3
   },
   "file_extension": ".py",
   "mimetype": "text/x-python",
   "name": "python",
   "nbconvert_exporter": "python",
   "pygments_lexer": "ipython3",
   "version": "3.8.5"
  }
 },
 "nbformat": 4,
 "nbformat_minor": 4
}
