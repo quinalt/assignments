{
 "cells": [
  {
   "cell_type": "code",
   "execution_count": 28,
   "metadata": {},
   "outputs": [],
   "source": [
    "from tensorflow.keras.models import Sequential "
   ]
  },
  {
   "cell_type": "code",
   "execution_count": 29,
   "metadata": {},
   "outputs": [],
   "source": [
    "# get the data in \n",
    "import warnings \n",
    "warnings.filterwarnings(\"ignore\")\n",
    "\n",
    "from tensorflow.keras.datasets import mnist"
   ]
  },
  {
   "cell_type": "code",
   "execution_count": 30,
   "metadata": {},
   "outputs": [],
   "source": [
    "# do the preprocessing \n",
    "(X_train, y_train), (X_test, y_test) = mnist.load_data()\n",
    "\n",
    "input_dim = 784 \n",
    "output_dim = nb_classes = 10 \n",
    "batch_size = 128\n",
    "nb_epoch = 20 \n",
    "\n",
    "X_train = X_train.reshape(60000, input_dim)\n",
    "X_test = X_test.reshape(10000, input_dim)\n",
    "X_train = X_train.astype('float32')\n",
    "X_test = X_test.astype('float32')\n",
    "X_train /= 255\n",
    "X_test /= 255"
   ]
  },
  {
   "cell_type": "code",
   "execution_count": 31,
   "metadata": {},
   "outputs": [],
   "source": [
    "# one hot encode the target variable using the to_categorical function from the keras.utils\n",
    "\n",
    "from tensorflow.keras.utils import to_categorical \n",
    "\n",
    "y_train = to_categorical(y_train, nb_classes)\n",
    "y_test = to_categorical(y_test, nb_classes)"
   ]
  },
  {
   "cell_type": "code",
   "execution_count": 32,
   "metadata": {},
   "outputs": [],
   "source": [
    "from tensorflow.keras.layers import Dense\n",
    "from tensorflow.keras import losses \n",
    "\n",
    "#build the model object \n",
    "model = Sequential()\n",
    "\n",
    "#first dense layer \n",
    "model.add(Dense(128, input_shape=(784,), activation='tanh'))\n",
    "\n",
    "# the second dense layer \n",
    "model.add(Dense(64, activation='tanh'))\n",
    "\n",
    "#last layer is the output layer \n",
    "model.add(Dense(10, activation = 'softmax'))"
   ]
  },
  {
   "cell_type": "code",
   "execution_count": 33,
   "metadata": {},
   "outputs": [
    {
     "name": "stdout",
     "output_type": "stream",
     "text": [
      "Model: \"sequential_5\"\n",
      "_________________________________________________________________\n",
      "Layer (type)                 Output Shape              Param #   \n",
      "=================================================================\n",
      "dense_15 (Dense)             (None, 128)               100480    \n",
      "_________________________________________________________________\n",
      "dense_16 (Dense)             (None, 64)                8256      \n",
      "_________________________________________________________________\n",
      "dense_17 (Dense)             (None, 10)                650       \n",
      "=================================================================\n",
      "Total params: 109,386\n",
      "Trainable params: 109,386\n",
      "Non-trainable params: 0\n",
      "_________________________________________________________________\n"
     ]
    }
   ],
   "source": [
    "#get info on the model \n",
    "model.summary()"
   ]
  },
  {
   "cell_type": "code",
   "execution_count": 34,
   "metadata": {},
   "outputs": [],
   "source": [
    "#compile the model, need to define optimizer, loss function, metric to measure performance \n",
    "\n",
    "model.compile(optimizer = 'sgd', loss = losses.categorical_hinge, metrics = ['accuracy'])"
   ]
  },
  {
   "cell_type": "code",
   "execution_count": 35,
   "metadata": {},
   "outputs": [
    {
     "name": "stdout",
     "output_type": "stream",
     "text": [
      "Epoch 1/20\n",
      "469/469 [==============================] - 1s 1ms/step - loss: 1.0392 - accuracy: 0.2249\n",
      "Epoch 2/20\n",
      "469/469 [==============================] - 1s 1ms/step - loss: 0.8631 - accuracy: 0.6592\n",
      "Epoch 3/20\n",
      "469/469 [==============================] - 1s 1ms/step - loss: 0.6473 - accuracy: 0.7783\n",
      "Epoch 4/20\n",
      "469/469 [==============================] - 1s 1ms/step - loss: 0.4999 - accuracy: 0.8363\n",
      "Epoch 5/20\n",
      "469/469 [==============================] - 1s 1ms/step - loss: 0.4094 - accuracy: 0.8612\n",
      "Epoch 6/20\n",
      "469/469 [==============================] - 1s 1ms/step - loss: 0.3550 - accuracy: 0.8753\n",
      "Epoch 7/20\n",
      "469/469 [==============================] - 1s 1ms/step - loss: 0.3194 - accuracy: 0.8844\n",
      "Epoch 8/20\n",
      "469/469 [==============================] - 1s 1ms/step - loss: 0.2970 - accuracy: 0.8878\n",
      "Epoch 9/20\n",
      "469/469 [==============================] - 1s 1ms/step - loss: 0.2765 - accuracy: 0.8924\n",
      "Epoch 10/20\n",
      "469/469 [==============================] - 1s 1ms/step - loss: 0.2633 - accuracy: 0.8957\n",
      "Epoch 11/20\n",
      "469/469 [==============================] - 1s 1ms/step - loss: 0.2500 - accuracy: 0.9009: 0s - loss: 0.2523 \n",
      "Epoch 12/20\n",
      "469/469 [==============================] - 1s 1ms/step - loss: 0.2399 - accuracy: 0.9037\n",
      "Epoch 13/20\n",
      "469/469 [==============================] - 1s 1ms/step - loss: 0.2301 - accuracy: 0.9072\n",
      "Epoch 14/20\n",
      "469/469 [==============================] - 1s 1ms/step - loss: 0.2275 - accuracy: 0.9077\n",
      "Epoch 15/20\n",
      "469/469 [==============================] - 1s 1ms/step - loss: 0.2191 - accuracy: 0.9100\n",
      "Epoch 16/20\n",
      "469/469 [==============================] - 1s 1ms/step - loss: 0.2136 - accuracy: 0.9117\n",
      "Epoch 17/20\n",
      "469/469 [==============================] - 1s 1ms/step - loss: 0.2073 - accuracy: 0.9142\n",
      "Epoch 18/20\n",
      "469/469 [==============================] - 1s 1ms/step - loss: 0.2044 - accuracy: 0.9137\n",
      "Epoch 19/20\n",
      "469/469 [==============================] - 1s 1ms/step - loss: 0.1987 - accuracy: 0.9173\n",
      "Epoch 20/20\n",
      "469/469 [==============================] - 1s 1ms/step - loss: 0.1971 - accuracy: 0.9177\n"
     ]
    },
    {
     "data": {
      "text/plain": [
       "<tensorflow.python.keras.callbacks.History at 0x214cc9affa0>"
      ]
     },
     "execution_count": 35,
     "metadata": {},
     "output_type": "execute_result"
    }
   ],
   "source": [
    "# fit the model \n",
    "model.fit(X_train, y_train, batch_size=batch_size, epochs=20, verbose =1)"
   ]
  },
  {
   "cell_type": "code",
   "execution_count": 36,
   "metadata": {},
   "outputs": [
    {
     "name": "stdout",
     "output_type": "stream",
     "text": [
      "test score : 0.18615145981311798\n",
      "test accuracy : 0.9228000044822693\n"
     ]
    }
   ],
   "source": [
    "#evaluate the model \n",
    "\n",
    "score = model.evaluate(X_test, y_test, verbose = 0)\n",
    "print('test score :', score[0])\n",
    "print('test accuracy :', score[1])"
   ]
  },
  {
   "cell_type": "code",
   "execution_count": 37,
   "metadata": {},
   "outputs": [],
   "source": [
    "#build the model object \n",
    "model2 = Sequential()\n",
    "\n",
    "#first dense layer \n",
    "model2.add(Dense(128, input_shape=(784,), activation='sigmoid'))\n",
    "\n",
    "# the second dense layer \n",
    "model2.add(Dense(64, activation='sigmoid'))\n",
    "\n",
    "#last layer is the output layer \n",
    "model2.add(Dense(10, activation = 'softmax'))"
   ]
  },
  {
   "cell_type": "code",
   "execution_count": 38,
   "metadata": {},
   "outputs": [],
   "source": [
    "#compile the model, need to define optimizer, loss function, metric to measure performance \n",
    "\n",
    "model2.compile(optimizer = 'sgd', loss = losses.categorical_hinge, metrics = ['accuracy'])"
   ]
  },
  {
   "cell_type": "code",
   "execution_count": 39,
   "metadata": {},
   "outputs": [
    {
     "name": "stdout",
     "output_type": "stream",
     "text": [
      "Epoch 1/20\n",
      "469/469 [==============================] - 1s 1ms/step - loss: 1.0322 - accuracy: 0.0849\n",
      "Epoch 2/20\n",
      "469/469 [==============================] - 1s 1ms/step - loss: 1.0037 - accuracy: 0.1227\n",
      "Epoch 3/20\n",
      "469/469 [==============================] - 1s 1ms/step - loss: 1.0030 - accuracy: 0.1730\n",
      "Epoch 4/20\n",
      "469/469 [==============================] - 1s 1ms/step - loss: 1.0024 - accuracy: 0.2197\n",
      "Epoch 5/20\n",
      "469/469 [==============================] - 1s 1ms/step - loss: 1.0019 - accuracy: 0.2641\n",
      "Epoch 6/20\n",
      "469/469 [==============================] - 1s 1ms/step - loss: 1.0014 - accuracy: 0.3181\n",
      "Epoch 7/20\n",
      "469/469 [==============================] - 1s 1ms/step - loss: 1.0010 - accuracy: 0.3651\n",
      "Epoch 8/20\n",
      "469/469 [==============================] - 1s 1ms/step - loss: 1.0006 - accuracy: 0.4114\n",
      "Epoch 9/20\n",
      "469/469 [==============================] - 1s 1ms/step - loss: 1.0002 - accuracy: 0.4550\n",
      "Epoch 10/20\n",
      "469/469 [==============================] - 1s 1ms/step - loss: 0.9999 - accuracy: 0.4875\n",
      "Epoch 11/20\n",
      "469/469 [==============================] - 1s 1ms/step - loss: 0.9996 - accuracy: 0.5241\n",
      "Epoch 12/20\n",
      "469/469 [==============================] - 1s 1ms/step - loss: 0.9993 - accuracy: 0.5506\n",
      "Epoch 13/20\n",
      "469/469 [==============================] - 1s 1ms/step - loss: 0.9991 - accuracy: 0.5728\n",
      "Epoch 14/20\n",
      "469/469 [==============================] - 1s 1ms/step - loss: 0.9988 - accuracy: 0.5943\n",
      "Epoch 15/20\n",
      "469/469 [==============================] - 1s 1ms/step - loss: 0.9985 - accuracy: 0.6126\n",
      "Epoch 16/20\n",
      "469/469 [==============================] - 1s 1ms/step - loss: 0.9982 - accuracy: 0.6275\n",
      "Epoch 17/20\n",
      "469/469 [==============================] - 1s 1ms/step - loss: 0.9980 - accuracy: 0.6413\n",
      "Epoch 18/20\n",
      "469/469 [==============================] - 1s 1ms/step - loss: 0.9978 - accuracy: 0.6478\n",
      "Epoch 19/20\n",
      "469/469 [==============================] - 1s 1ms/step - loss: 0.9975 - accuracy: 0.6621\n",
      "Epoch 20/20\n",
      "469/469 [==============================] - 1s 1ms/step - loss: 0.9972 - accuracy: 0.6735\n"
     ]
    },
    {
     "data": {
      "text/plain": [
       "<tensorflow.python.keras.callbacks.History at 0x214cc3f39d0>"
      ]
     },
     "execution_count": 39,
     "metadata": {},
     "output_type": "execute_result"
    }
   ],
   "source": [
    "# fit the model \n",
    "model2.fit(X_train, y_train, batch_size=batch_size, epochs=20, verbose =1)"
   ]
  },
  {
   "cell_type": "code",
   "execution_count": 40,
   "metadata": {},
   "outputs": [
    {
     "name": "stdout",
     "output_type": "stream",
     "text": [
      "test score : 0.9969332814216614\n",
      "test accuracy : 0.6822999715805054\n"
     ]
    }
   ],
   "source": [
    "#evaluate the model \n",
    "\n",
    "score = model2.evaluate(X_test, y_test, verbose = 0)\n",
    "print('test score :', score[0])\n",
    "print('test accuracy :', score[1])"
   ]
  },
  {
   "cell_type": "code",
   "execution_count": 41,
   "metadata": {},
   "outputs": [],
   "source": [
    "#build the model object \n",
    "model3 = Sequential()\n",
    "\n",
    "#first dense layer \n",
    "model3.add(Dense(128, input_shape=(784,), activation='relu'))\n",
    "\n",
    "# the second dense layer \n",
    "model3.add(Dense(64, activation='relu'))\n",
    "\n",
    "#last layer is the output layer \n",
    "model3.add(Dense(10, activation = 'softmax'))"
   ]
  },
  {
   "cell_type": "code",
   "execution_count": 42,
   "metadata": {},
   "outputs": [],
   "source": [
    "#compile the model, need to define optimizer, loss function, metric to measure performance \n",
    "\n",
    "model3.compile(optimizer = 'sgd', loss = losses.categorical_hinge, metrics = ['accuracy'])"
   ]
  },
  {
   "cell_type": "code",
   "execution_count": 43,
   "metadata": {},
   "outputs": [
    {
     "name": "stdout",
     "output_type": "stream",
     "text": [
      "Epoch 1/20\n",
      "469/469 [==============================] - 1s 1ms/step - loss: 1.0270 - accuracy: 0.1912\n",
      "Epoch 2/20\n",
      "469/469 [==============================] - 1s 1ms/step - loss: 0.9974 - accuracy: 0.4049\n",
      "Epoch 3/20\n",
      "469/469 [==============================] - 1s 1ms/step - loss: 0.9525 - accuracy: 0.5256\n",
      "Epoch 4/20\n",
      "469/469 [==============================] - 1s 1ms/step - loss: 0.8720 - accuracy: 0.6437\n",
      "Epoch 5/20\n",
      "469/469 [==============================] - 1s 1ms/step - loss: 0.7516 - accuracy: 0.7284\n",
      "Epoch 6/20\n",
      "469/469 [==============================] - 1s 1ms/step - loss: 0.5813 - accuracy: 0.8028\n",
      "Epoch 7/20\n",
      "469/469 [==============================] - 1s 1ms/step - loss: 0.4249 - accuracy: 0.8668\n",
      "Epoch 8/20\n",
      "469/469 [==============================] - 1s 1ms/step - loss: 0.3366 - accuracy: 0.8828\n",
      "Epoch 9/20\n",
      "469/469 [==============================] - 1s 1ms/step - loss: 0.2900 - accuracy: 0.8906\n",
      "Epoch 10/20\n",
      "469/469 [==============================] - 1s 1ms/step - loss: 0.2613 - accuracy: 0.8975\n",
      "Epoch 11/20\n",
      "469/469 [==============================] - 1s 1ms/step - loss: 0.2426 - accuracy: 0.9018\n",
      "Epoch 12/20\n",
      "469/469 [==============================] - 1s 1ms/step - loss: 0.2307 - accuracy: 0.9043\n",
      "Epoch 13/20\n",
      "469/469 [==============================] - 1s 1ms/step - loss: 0.2160 - accuracy: 0.9099\n",
      "Epoch 14/20\n",
      "469/469 [==============================] - 1s 1ms/step - loss: 0.2096 - accuracy: 0.9116\n",
      "Epoch 15/20\n",
      "469/469 [==============================] - 1s 1ms/step - loss: 0.1994 - accuracy: 0.9150\n",
      "Epoch 16/20\n",
      "469/469 [==============================] - 1s 1ms/step - loss: 0.1917 - accuracy: 0.9187\n",
      "Epoch 17/20\n",
      "469/469 [==============================] - 1s 1ms/step - loss: 0.1854 - accuracy: 0.9196\n",
      "Epoch 18/20\n",
      "469/469 [==============================] - 1s 1ms/step - loss: 0.1796 - accuracy: 0.9226\n",
      "Epoch 19/20\n",
      "469/469 [==============================] - 1s 1ms/step - loss: 0.1734 - accuracy: 0.9255\n",
      "Epoch 20/20\n",
      "469/469 [==============================] - 1s 1ms/step - loss: 0.1725 - accuracy: 0.9250\n"
     ]
    },
    {
     "data": {
      "text/plain": [
       "<tensorflow.python.keras.callbacks.History at 0x214c99c2e80>"
      ]
     },
     "execution_count": 43,
     "metadata": {},
     "output_type": "execute_result"
    }
   ],
   "source": [
    "# fit the model \n",
    "model3.fit(X_train, y_train, batch_size=batch_size, epochs=20, verbose =1)"
   ]
  },
  {
   "cell_type": "code",
   "execution_count": 44,
   "metadata": {},
   "outputs": [
    {
     "name": "stdout",
     "output_type": "stream",
     "text": [
      "test score : 0.1643531322479248\n",
      "test accuracy : 0.9279000163078308\n"
     ]
    }
   ],
   "source": [
    "#evaluate the model \n",
    "\n",
    "score = model3.evaluate(X_test, y_test, verbose = 0)\n",
    "print('test score :', score[0])\n",
    "print('test accuracy :', score[1])"
   ]
  },
  {
   "cell_type": "code",
   "execution_count": 45,
   "metadata": {},
   "outputs": [],
   "source": [
    "# relu model is the top performer "
   ]
  }
 ],
 "metadata": {
  "kernelspec": {
   "display_name": "Python 3",
   "language": "python",
   "name": "python3"
  },
  "language_info": {
   "codemirror_mode": {
    "name": "ipython",
    "version": 3
   },
   "file_extension": ".py",
   "mimetype": "text/x-python",
   "name": "python",
   "nbconvert_exporter": "python",
   "pygments_lexer": "ipython3",
   "version": "3.8.5"
  }
 },
 "nbformat": 4,
 "nbformat_minor": 4
}
